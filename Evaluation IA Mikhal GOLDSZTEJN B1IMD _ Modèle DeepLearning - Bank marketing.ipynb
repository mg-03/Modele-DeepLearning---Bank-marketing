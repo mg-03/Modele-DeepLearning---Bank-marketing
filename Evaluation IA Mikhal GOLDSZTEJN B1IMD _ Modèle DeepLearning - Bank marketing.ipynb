{
 "cells": [
  {
   "attachments": {},
   "cell_type": "markdown",
   "metadata": {},
   "source": [
    "# Modèle DeepLearning - Bank marketing"
   ]
  },
  {
   "attachments": {},
   "cell_type": "markdown",
   "metadata": {},
   "source": [
    "## Exercice 1 : Entrainement d'un MLP sur le jeu de données `Bank marketing`"
   ]
  },
  {
   "attachments": {},
   "cell_type": "markdown",
   "metadata": {},
   "source": [
    "1. Complétez le code suivant en renseignant le chemin vers le jeu de données `Bank marketing` puis exécutez le code afin d'obtenir les variables d'entrainement et de test."
   ]
  },
  {
   "cell_type": "code",
   "execution_count": 1,
   "metadata": {},
   "outputs": [],
   "source": [
    "#import des bibliothèques\n",
    "\n",
    "import pandas as pd\n",
    "import matplotlib.pyplot as plt\n",
    "\n",
    "from sklearn.model_selection import train_test_split\n",
    "from sklearn.preprocessing import StandardScaler\n",
    "from sklearn.preprocessing import LabelEncoder"
   ]
  },
  {
   "cell_type": "code",
   "execution_count": 2,
   "metadata": {},
   "outputs": [],
   "source": [
    "\"\"\"Definition d'une fonction qui prend en parametre la variable history (historique d'entrainement d'un modèle) \n",
    "et qui affiche un graphique légendé\n",
    "\"\"\"\n",
    "\n",
    "def plot_history(history):\n",
    "    plt.plot(history.history['accuracy'])\n",
    "    plt.plot(history.history['val_accuracy'])\n",
    "    plt.title('Accuracy')\n",
    "    plt.ylabel('Accuracy')\n",
    "    plt.xlabel('Epoch')\n",
    "    plt.legend(['train', 'val'], loc='upper left')\n",
    "    plt.show()\n",
    "\n",
    "\n",
    "file_path = \"train.csv\""
   ]
  },
  {
   "cell_type": "code",
   "execution_count": 3,
   "metadata": {},
   "outputs": [],
   "source": [
    "# Import du jeu de données\n",
    "df = pd.read_csv(file_path)\n",
    "\n",
    "X = df.drop(['ID', 'contact', 'month', 'day', 'y'], axis=1)\n",
    "y = df['y']"
   ]
  },
  {
   "cell_type": "code",
   "execution_count": 4,
   "metadata": {},
   "outputs": [
    {
     "data": {
      "text/html": [
       "<div>\n",
       "<style scoped>\n",
       "    .dataframe tbody tr th:only-of-type {\n",
       "        vertical-align: middle;\n",
       "    }\n",
       "\n",
       "    .dataframe tbody tr th {\n",
       "        vertical-align: top;\n",
       "    }\n",
       "\n",
       "    .dataframe thead th {\n",
       "        text-align: right;\n",
       "    }\n",
       "</style>\n",
       "<table border=\"1\" class=\"dataframe\">\n",
       "  <thead>\n",
       "    <tr style=\"text-align: right;\">\n",
       "      <th></th>\n",
       "      <th>ID</th>\n",
       "      <th>age</th>\n",
       "      <th>job</th>\n",
       "      <th>marital</th>\n",
       "      <th>education</th>\n",
       "      <th>default</th>\n",
       "      <th>balance</th>\n",
       "      <th>housing</th>\n",
       "      <th>loan</th>\n",
       "      <th>contact</th>\n",
       "      <th>day</th>\n",
       "      <th>month</th>\n",
       "      <th>campaign</th>\n",
       "      <th>pdays</th>\n",
       "      <th>previous</th>\n",
       "      <th>poutcome</th>\n",
       "      <th>y</th>\n",
       "    </tr>\n",
       "  </thead>\n",
       "  <tbody>\n",
       "    <tr>\n",
       "      <th>0</th>\n",
       "      <td>13829</td>\n",
       "      <td>29</td>\n",
       "      <td>technician</td>\n",
       "      <td>single</td>\n",
       "      <td>tertiary</td>\n",
       "      <td>no</td>\n",
       "      <td>18254</td>\n",
       "      <td>no</td>\n",
       "      <td>no</td>\n",
       "      <td>cellular</td>\n",
       "      <td>11</td>\n",
       "      <td>may</td>\n",
       "      <td>2</td>\n",
       "      <td>-1</td>\n",
       "      <td>0</td>\n",
       "      <td>unknown</td>\n",
       "      <td>no</td>\n",
       "    </tr>\n",
       "    <tr>\n",
       "      <th>1</th>\n",
       "      <td>22677</td>\n",
       "      <td>26</td>\n",
       "      <td>services</td>\n",
       "      <td>single</td>\n",
       "      <td>secondary</td>\n",
       "      <td>no</td>\n",
       "      <td>512</td>\n",
       "      <td>yes</td>\n",
       "      <td>yes</td>\n",
       "      <td>unknown</td>\n",
       "      <td>5</td>\n",
       "      <td>jun</td>\n",
       "      <td>3</td>\n",
       "      <td>-1</td>\n",
       "      <td>0</td>\n",
       "      <td>unknown</td>\n",
       "      <td>no</td>\n",
       "    </tr>\n",
       "    <tr>\n",
       "      <th>2</th>\n",
       "      <td>10541</td>\n",
       "      <td>30</td>\n",
       "      <td>management</td>\n",
       "      <td>single</td>\n",
       "      <td>secondary</td>\n",
       "      <td>no</td>\n",
       "      <td>135</td>\n",
       "      <td>no</td>\n",
       "      <td>no</td>\n",
       "      <td>cellular</td>\n",
       "      <td>14</td>\n",
       "      <td>aug</td>\n",
       "      <td>2</td>\n",
       "      <td>-1</td>\n",
       "      <td>0</td>\n",
       "      <td>unknown</td>\n",
       "      <td>no</td>\n",
       "    </tr>\n",
       "    <tr>\n",
       "      <th>3</th>\n",
       "      <td>13689</td>\n",
       "      <td>41</td>\n",
       "      <td>technician</td>\n",
       "      <td>married</td>\n",
       "      <td>unknown</td>\n",
       "      <td>no</td>\n",
       "      <td>30</td>\n",
       "      <td>yes</td>\n",
       "      <td>no</td>\n",
       "      <td>cellular</td>\n",
       "      <td>10</td>\n",
       "      <td>jul</td>\n",
       "      <td>1</td>\n",
       "      <td>-1</td>\n",
       "      <td>0</td>\n",
       "      <td>unknown</td>\n",
       "      <td>no</td>\n",
       "    </tr>\n",
       "    <tr>\n",
       "      <th>4</th>\n",
       "      <td>11304</td>\n",
       "      <td>27</td>\n",
       "      <td>admin.</td>\n",
       "      <td>single</td>\n",
       "      <td>secondary</td>\n",
       "      <td>no</td>\n",
       "      <td>321</td>\n",
       "      <td>no</td>\n",
       "      <td>yes</td>\n",
       "      <td>unknown</td>\n",
       "      <td>2</td>\n",
       "      <td>sep</td>\n",
       "      <td>1</td>\n",
       "      <td>-1</td>\n",
       "      <td>0</td>\n",
       "      <td>unknown</td>\n",
       "      <td>no</td>\n",
       "    </tr>\n",
       "    <tr>\n",
       "      <th>...</th>\n",
       "      <td>...</td>\n",
       "      <td>...</td>\n",
       "      <td>...</td>\n",
       "      <td>...</td>\n",
       "      <td>...</td>\n",
       "      <td>...</td>\n",
       "      <td>...</td>\n",
       "      <td>...</td>\n",
       "      <td>...</td>\n",
       "      <td>...</td>\n",
       "      <td>...</td>\n",
       "      <td>...</td>\n",
       "      <td>...</td>\n",
       "      <td>...</td>\n",
       "      <td>...</td>\n",
       "      <td>...</td>\n",
       "      <td>...</td>\n",
       "    </tr>\n",
       "    <tr>\n",
       "      <th>12865</th>\n",
       "      <td>14023</td>\n",
       "      <td>47</td>\n",
       "      <td>technician</td>\n",
       "      <td>married</td>\n",
       "      <td>secondary</td>\n",
       "      <td>no</td>\n",
       "      <td>1167</td>\n",
       "      <td>yes</td>\n",
       "      <td>no</td>\n",
       "      <td>cellular</td>\n",
       "      <td>30</td>\n",
       "      <td>apr</td>\n",
       "      <td>1</td>\n",
       "      <td>87</td>\n",
       "      <td>5</td>\n",
       "      <td>failure</td>\n",
       "      <td>yes</td>\n",
       "    </tr>\n",
       "    <tr>\n",
       "      <th>12866</th>\n",
       "      <td>17259</td>\n",
       "      <td>31</td>\n",
       "      <td>unknown</td>\n",
       "      <td>married</td>\n",
       "      <td>secondary</td>\n",
       "      <td>no</td>\n",
       "      <td>111</td>\n",
       "      <td>no</td>\n",
       "      <td>no</td>\n",
       "      <td>cellular</td>\n",
       "      <td>21</td>\n",
       "      <td>nov</td>\n",
       "      <td>2</td>\n",
       "      <td>93</td>\n",
       "      <td>2</td>\n",
       "      <td>failure</td>\n",
       "      <td>yes</td>\n",
       "    </tr>\n",
       "    <tr>\n",
       "      <th>12867</th>\n",
       "      <td>15200</td>\n",
       "      <td>37</td>\n",
       "      <td>unemployed</td>\n",
       "      <td>single</td>\n",
       "      <td>tertiary</td>\n",
       "      <td>no</td>\n",
       "      <td>1316</td>\n",
       "      <td>yes</td>\n",
       "      <td>no</td>\n",
       "      <td>cellular</td>\n",
       "      <td>18</td>\n",
       "      <td>nov</td>\n",
       "      <td>1</td>\n",
       "      <td>172</td>\n",
       "      <td>2</td>\n",
       "      <td>failure</td>\n",
       "      <td>no</td>\n",
       "    </tr>\n",
       "    <tr>\n",
       "      <th>12868</th>\n",
       "      <td>13775</td>\n",
       "      <td>42</td>\n",
       "      <td>management</td>\n",
       "      <td>married</td>\n",
       "      <td>tertiary</td>\n",
       "      <td>no</td>\n",
       "      <td>479</td>\n",
       "      <td>yes</td>\n",
       "      <td>no</td>\n",
       "      <td>unknown</td>\n",
       "      <td>28</td>\n",
       "      <td>may</td>\n",
       "      <td>2</td>\n",
       "      <td>-1</td>\n",
       "      <td>0</td>\n",
       "      <td>unknown</td>\n",
       "      <td>no</td>\n",
       "    </tr>\n",
       "    <tr>\n",
       "      <th>12869</th>\n",
       "      <td>20137</td>\n",
       "      <td>24</td>\n",
       "      <td>services</td>\n",
       "      <td>single</td>\n",
       "      <td>secondary</td>\n",
       "      <td>no</td>\n",
       "      <td>0</td>\n",
       "      <td>no</td>\n",
       "      <td>no</td>\n",
       "      <td>unknown</td>\n",
       "      <td>16</td>\n",
       "      <td>may</td>\n",
       "      <td>1</td>\n",
       "      <td>-1</td>\n",
       "      <td>0</td>\n",
       "      <td>unknown</td>\n",
       "      <td>no</td>\n",
       "    </tr>\n",
       "  </tbody>\n",
       "</table>\n",
       "<p>12870 rows × 17 columns</p>\n",
       "</div>"
      ],
      "text/plain": [
       "          ID  age         job  marital  education default  balance housing  \\\n",
       "0      13829   29  technician   single   tertiary      no    18254      no   \n",
       "1      22677   26    services   single  secondary      no      512     yes   \n",
       "2      10541   30  management   single  secondary      no      135      no   \n",
       "3      13689   41  technician  married    unknown      no       30     yes   \n",
       "4      11304   27      admin.   single  secondary      no      321      no   \n",
       "...      ...  ...         ...      ...        ...     ...      ...     ...   \n",
       "12865  14023   47  technician  married  secondary      no     1167     yes   \n",
       "12866  17259   31     unknown  married  secondary      no      111      no   \n",
       "12867  15200   37  unemployed   single   tertiary      no     1316     yes   \n",
       "12868  13775   42  management  married   tertiary      no      479     yes   \n",
       "12869  20137   24    services   single  secondary      no        0      no   \n",
       "\n",
       "      loan   contact  day month  campaign  pdays  previous poutcome    y  \n",
       "0       no  cellular   11   may         2     -1         0  unknown   no  \n",
       "1      yes   unknown    5   jun         3     -1         0  unknown   no  \n",
       "2       no  cellular   14   aug         2     -1         0  unknown   no  \n",
       "3       no  cellular   10   jul         1     -1         0  unknown   no  \n",
       "4      yes   unknown    2   sep         1     -1         0  unknown   no  \n",
       "...    ...       ...  ...   ...       ...    ...       ...      ...  ...  \n",
       "12865   no  cellular   30   apr         1     87         5  failure  yes  \n",
       "12866   no  cellular   21   nov         2     93         2  failure  yes  \n",
       "12867   no  cellular   18   nov         1    172         2  failure   no  \n",
       "12868   no   unknown   28   may         2     -1         0  unknown   no  \n",
       "12869   no   unknown   16   may         1     -1         0  unknown   no  \n",
       "\n",
       "[12870 rows x 17 columns]"
      ]
     },
     "execution_count": 4,
     "metadata": {},
     "output_type": "execute_result"
    }
   ],
   "source": [
    "df"
   ]
  },
  {
   "cell_type": "code",
   "execution_count": 5,
   "metadata": {},
   "outputs": [
    {
     "data": {
      "text/html": [
       "<div>\n",
       "<style scoped>\n",
       "    .dataframe tbody tr th:only-of-type {\n",
       "        vertical-align: middle;\n",
       "    }\n",
       "\n",
       "    .dataframe tbody tr th {\n",
       "        vertical-align: top;\n",
       "    }\n",
       "\n",
       "    .dataframe thead th {\n",
       "        text-align: right;\n",
       "    }\n",
       "</style>\n",
       "<table border=\"1\" class=\"dataframe\">\n",
       "  <thead>\n",
       "    <tr style=\"text-align: right;\">\n",
       "      <th></th>\n",
       "      <th>age</th>\n",
       "      <th>job</th>\n",
       "      <th>marital</th>\n",
       "      <th>education</th>\n",
       "      <th>default</th>\n",
       "      <th>balance</th>\n",
       "      <th>housing</th>\n",
       "      <th>loan</th>\n",
       "      <th>campaign</th>\n",
       "      <th>pdays</th>\n",
       "      <th>previous</th>\n",
       "      <th>poutcome</th>\n",
       "    </tr>\n",
       "  </thead>\n",
       "  <tbody>\n",
       "    <tr>\n",
       "      <th>0</th>\n",
       "      <td>29</td>\n",
       "      <td>technician</td>\n",
       "      <td>single</td>\n",
       "      <td>tertiary</td>\n",
       "      <td>no</td>\n",
       "      <td>18254</td>\n",
       "      <td>no</td>\n",
       "      <td>no</td>\n",
       "      <td>2</td>\n",
       "      <td>-1</td>\n",
       "      <td>0</td>\n",
       "      <td>unknown</td>\n",
       "    </tr>\n",
       "    <tr>\n",
       "      <th>1</th>\n",
       "      <td>26</td>\n",
       "      <td>services</td>\n",
       "      <td>single</td>\n",
       "      <td>secondary</td>\n",
       "      <td>no</td>\n",
       "      <td>512</td>\n",
       "      <td>yes</td>\n",
       "      <td>yes</td>\n",
       "      <td>3</td>\n",
       "      <td>-1</td>\n",
       "      <td>0</td>\n",
       "      <td>unknown</td>\n",
       "    </tr>\n",
       "    <tr>\n",
       "      <th>2</th>\n",
       "      <td>30</td>\n",
       "      <td>management</td>\n",
       "      <td>single</td>\n",
       "      <td>secondary</td>\n",
       "      <td>no</td>\n",
       "      <td>135</td>\n",
       "      <td>no</td>\n",
       "      <td>no</td>\n",
       "      <td>2</td>\n",
       "      <td>-1</td>\n",
       "      <td>0</td>\n",
       "      <td>unknown</td>\n",
       "    </tr>\n",
       "    <tr>\n",
       "      <th>3</th>\n",
       "      <td>41</td>\n",
       "      <td>technician</td>\n",
       "      <td>married</td>\n",
       "      <td>unknown</td>\n",
       "      <td>no</td>\n",
       "      <td>30</td>\n",
       "      <td>yes</td>\n",
       "      <td>no</td>\n",
       "      <td>1</td>\n",
       "      <td>-1</td>\n",
       "      <td>0</td>\n",
       "      <td>unknown</td>\n",
       "    </tr>\n",
       "    <tr>\n",
       "      <th>4</th>\n",
       "      <td>27</td>\n",
       "      <td>admin.</td>\n",
       "      <td>single</td>\n",
       "      <td>secondary</td>\n",
       "      <td>no</td>\n",
       "      <td>321</td>\n",
       "      <td>no</td>\n",
       "      <td>yes</td>\n",
       "      <td>1</td>\n",
       "      <td>-1</td>\n",
       "      <td>0</td>\n",
       "      <td>unknown</td>\n",
       "    </tr>\n",
       "    <tr>\n",
       "      <th>...</th>\n",
       "      <td>...</td>\n",
       "      <td>...</td>\n",
       "      <td>...</td>\n",
       "      <td>...</td>\n",
       "      <td>...</td>\n",
       "      <td>...</td>\n",
       "      <td>...</td>\n",
       "      <td>...</td>\n",
       "      <td>...</td>\n",
       "      <td>...</td>\n",
       "      <td>...</td>\n",
       "      <td>...</td>\n",
       "    </tr>\n",
       "    <tr>\n",
       "      <th>12865</th>\n",
       "      <td>47</td>\n",
       "      <td>technician</td>\n",
       "      <td>married</td>\n",
       "      <td>secondary</td>\n",
       "      <td>no</td>\n",
       "      <td>1167</td>\n",
       "      <td>yes</td>\n",
       "      <td>no</td>\n",
       "      <td>1</td>\n",
       "      <td>87</td>\n",
       "      <td>5</td>\n",
       "      <td>failure</td>\n",
       "    </tr>\n",
       "    <tr>\n",
       "      <th>12866</th>\n",
       "      <td>31</td>\n",
       "      <td>unknown</td>\n",
       "      <td>married</td>\n",
       "      <td>secondary</td>\n",
       "      <td>no</td>\n",
       "      <td>111</td>\n",
       "      <td>no</td>\n",
       "      <td>no</td>\n",
       "      <td>2</td>\n",
       "      <td>93</td>\n",
       "      <td>2</td>\n",
       "      <td>failure</td>\n",
       "    </tr>\n",
       "    <tr>\n",
       "      <th>12867</th>\n",
       "      <td>37</td>\n",
       "      <td>unemployed</td>\n",
       "      <td>single</td>\n",
       "      <td>tertiary</td>\n",
       "      <td>no</td>\n",
       "      <td>1316</td>\n",
       "      <td>yes</td>\n",
       "      <td>no</td>\n",
       "      <td>1</td>\n",
       "      <td>172</td>\n",
       "      <td>2</td>\n",
       "      <td>failure</td>\n",
       "    </tr>\n",
       "    <tr>\n",
       "      <th>12868</th>\n",
       "      <td>42</td>\n",
       "      <td>management</td>\n",
       "      <td>married</td>\n",
       "      <td>tertiary</td>\n",
       "      <td>no</td>\n",
       "      <td>479</td>\n",
       "      <td>yes</td>\n",
       "      <td>no</td>\n",
       "      <td>2</td>\n",
       "      <td>-1</td>\n",
       "      <td>0</td>\n",
       "      <td>unknown</td>\n",
       "    </tr>\n",
       "    <tr>\n",
       "      <th>12869</th>\n",
       "      <td>24</td>\n",
       "      <td>services</td>\n",
       "      <td>single</td>\n",
       "      <td>secondary</td>\n",
       "      <td>no</td>\n",
       "      <td>0</td>\n",
       "      <td>no</td>\n",
       "      <td>no</td>\n",
       "      <td>1</td>\n",
       "      <td>-1</td>\n",
       "      <td>0</td>\n",
       "      <td>unknown</td>\n",
       "    </tr>\n",
       "  </tbody>\n",
       "</table>\n",
       "<p>12870 rows × 12 columns</p>\n",
       "</div>"
      ],
      "text/plain": [
       "       age         job  marital  education default  balance housing loan  \\\n",
       "0       29  technician   single   tertiary      no    18254      no   no   \n",
       "1       26    services   single  secondary      no      512     yes  yes   \n",
       "2       30  management   single  secondary      no      135      no   no   \n",
       "3       41  technician  married    unknown      no       30     yes   no   \n",
       "4       27      admin.   single  secondary      no      321      no  yes   \n",
       "...    ...         ...      ...        ...     ...      ...     ...  ...   \n",
       "12865   47  technician  married  secondary      no     1167     yes   no   \n",
       "12866   31     unknown  married  secondary      no      111      no   no   \n",
       "12867   37  unemployed   single   tertiary      no     1316     yes   no   \n",
       "12868   42  management  married   tertiary      no      479     yes   no   \n",
       "12869   24    services   single  secondary      no        0      no   no   \n",
       "\n",
       "       campaign  pdays  previous poutcome  \n",
       "0             2     -1         0  unknown  \n",
       "1             3     -1         0  unknown  \n",
       "2             2     -1         0  unknown  \n",
       "3             1     -1         0  unknown  \n",
       "4             1     -1         0  unknown  \n",
       "...         ...    ...       ...      ...  \n",
       "12865         1     87         5  failure  \n",
       "12866         2     93         2  failure  \n",
       "12867         1    172         2  failure  \n",
       "12868         2     -1         0  unknown  \n",
       "12869         1     -1         0  unknown  \n",
       "\n",
       "[12870 rows x 12 columns]"
      ]
     },
     "execution_count": 5,
     "metadata": {},
     "output_type": "execute_result"
    }
   ],
   "source": [
    "X"
   ]
  },
  {
   "cell_type": "code",
   "execution_count": 6,
   "metadata": {},
   "outputs": [],
   "source": [
    "# Encodage des variables catégorielles\n",
    "le = LabelEncoder()\n",
    "X['job'] = le.fit_transform(X['job'])\n",
    "X['marital'] = le.fit_transform(X['marital'])\n",
    "X['education'] = le.fit_transform(X['education'])\n",
    "X['default'] = le.fit_transform(X['default'])\n",
    "X['housing'] = le.fit_transform(X['housing'])\n",
    "X['loan'] = le.fit_transform(X['loan'])\n",
    "X['poutcome'] = le.fit_transform(X['poutcome'])\n",
    "\n",
    "y = le.fit_transform(y)\n",
    "\n",
    "# Normalisation des données\n",
    "sc = StandardScaler()\n",
    "X = sc.fit_transform(X)\n",
    "\n",
    "# Séparer les données en train et test\n",
    "X_train, X_test, y_train, y_test = train_test_split(X, y, test_size=0.2, random_state=42)\n"
   ]
  },
  {
   "attachments": {},
   "cell_type": "markdown",
   "metadata": {},
   "source": [
    "Dans les codes précents, j'importe d'abord les bibliothèques et les fonctions dont je vais avoir besoin. Puis j'ai défini une fonction qui prend en parametre la variable history (historique d'entrainement d'un modèle) et qui affiche un graphique légendé lorqu'elle est appelée; importé mon jeu de données 'train.csv'; nettoyé et normalisé mon jeu de données puis séparé les données de train et de test.\n",
    "\n",
    "\n",
    "\n",
    "\n",
    "\n",
    "\n",
    "\n",
    "\n",
    "..."
   ]
  },
  {
   "attachments": {},
   "cell_type": "markdown",
   "metadata": {
    "vscode": {
     "languageId": "python"
    }
   },
   "source": [
    "\n",
    "\n",
    "2. Créez un réseau de neurones profond avec 3 couches cachées de 10 neurones chacune et une couche de sortie de 1 neurone. Utilisez la fonction d'activation `relu` pour les couches cachées et `sigmoid` pour la couche de sortie. "
   ]
  },
  {
   "cell_type": "code",
   "execution_count": 7,
   "metadata": {},
   "outputs": [],
   "source": [
    "import tensorflow as tf"
   ]
  },
  {
   "cell_type": "code",
   "execution_count": 8,
   "metadata": {},
   "outputs": [],
   "source": [
    "# Trouver le nombre de colonnes\n",
    "num_features = X.shape[1]"
   ]
  },
  {
   "cell_type": "code",
   "execution_count": 9,
   "metadata": {},
   "outputs": [
    {
     "data": {
      "text/plain": [
       "12"
      ]
     },
     "execution_count": 9,
     "metadata": {},
     "output_type": "execute_result"
    }
   ],
   "source": [
    "num_features"
   ]
  },
  {
   "cell_type": "code",
   "execution_count": 10,
   "metadata": {},
   "outputs": [],
   "source": [
    "\n",
    "# Création du modèle\n",
    "model = tf.keras.models.Sequential([\n",
    "  # Couche d'entrée\n",
    "  tf.keras.layers.Input(shape=(num_features,)),\n",
    "  # 1ère couche cachée\n",
    "  tf.keras.layers.Dense(10, activation='relu'),\n",
    "  # 2ème couche cachée\n",
    "  tf.keras.layers.Dense(10, activation='relu'),\n",
    "  # 3ème couche cachée\n",
    "  tf.keras.layers.Dense(10, activation='relu'),\n",
    "  # Couche de sortie\n",
    "  tf.keras.layers.Dense(1, activation='sigmoid')\n",
    "])\n"
   ]
  },
  {
   "attachments": {},
   "cell_type": "markdown",
   "metadata": {},
   "source": [
    "Dans les codes précents, j'importe d'abord la bibliotheque tensorflow pour pouvoir utiliser la méthode Keras pour créer un reseau de neurones profond. Je definis ensuite une varable qui va me donner le nombres de colonnes présentes dans mon jeu de de données traité. Je vais ensuite mettre cette variable dans la couche d'entrée du réseau de neurones profond puisque le réseau de neurones est construit selon ce jeu de données.\n",
    "\n",
    "\n",
    "\n",
    "\n",
    "\n",
    "\n",
    "\n",
    "..."
   ]
  },
  {
   "attachments": {},
   "cell_type": "markdown",
   "metadata": {},
   "source": [
    "3. Compilez le modèle en utilisant l'optimiseur `adam` et la fonction de perte `binary_crossentropy`."
   ]
  },
  {
   "cell_type": "code",
   "execution_count": 11,
   "metadata": {},
   "outputs": [],
   "source": [
    "# Compilation du modèle\n",
    "model.compile(optimizer='adam', loss='binary_crossentropy', metrics=['accuracy'])"
   ]
  },
  {
   "attachments": {},
   "cell_type": "markdown",
   "metadata": {},
   "source": [
    "4. Entraînez le modèle en utilisant 10 epochs et une taille de batch de 32 et stockez l'historique de l'entraînement dans la variable `history`.   \n",
    "\n",
    "    Utilisez la méthode fit du modèle : `fit(X_train, y_train, validation_data=(X_test, y_test),\n",
    "          epochs=5, batch_size=10, verbose=1)`\n"
   ]
  },
  {
   "cell_type": "code",
   "execution_count": 12,
   "metadata": {},
   "outputs": [
    {
     "name": "stdout",
     "output_type": "stream",
     "text": [
      "Epoch 1/10\n",
      "322/322 [==============================] - 1s 2ms/step - loss: 0.6204 - accuracy: 0.6719 - val_loss: 0.5659 - val_accuracy: 0.7397\n",
      "Epoch 2/10\n",
      "322/322 [==============================] - 0s 1ms/step - loss: 0.5692 - accuracy: 0.7220 - val_loss: 0.5516 - val_accuracy: 0.7467\n",
      "Epoch 3/10\n",
      "322/322 [==============================] - 1s 2ms/step - loss: 0.5576 - accuracy: 0.7310 - val_loss: 0.5443 - val_accuracy: 0.7521\n",
      "Epoch 4/10\n",
      "322/322 [==============================] - 0s 1ms/step - loss: 0.5507 - accuracy: 0.7363 - val_loss: 0.5400 - val_accuracy: 0.7556\n",
      "Epoch 5/10\n",
      "322/322 [==============================] - 0s 1ms/step - loss: 0.5463 - accuracy: 0.7424 - val_loss: 0.5400 - val_accuracy: 0.7572\n",
      "Epoch 6/10\n",
      "322/322 [==============================] - 0s 1ms/step - loss: 0.5427 - accuracy: 0.7449 - val_loss: 0.5345 - val_accuracy: 0.7599\n",
      "Epoch 7/10\n",
      "322/322 [==============================] - 0s 1ms/step - loss: 0.5408 - accuracy: 0.7455 - val_loss: 0.5351 - val_accuracy: 0.7618\n",
      "Epoch 8/10\n",
      "322/322 [==============================] - 0s 1ms/step - loss: 0.5395 - accuracy: 0.7487 - val_loss: 0.5300 - val_accuracy: 0.7595\n",
      "Epoch 9/10\n",
      "322/322 [==============================] - 0s 1ms/step - loss: 0.5384 - accuracy: 0.7475 - val_loss: 0.5322 - val_accuracy: 0.7626\n",
      "Epoch 10/10\n",
      "322/322 [==============================] - 0s 1ms/step - loss: 0.5369 - accuracy: 0.7494 - val_loss: 0.5313 - val_accuracy: 0.7611\n"
     ]
    },
    {
     "data": {
      "text/plain": [
       "<keras.callbacks.History at 0x19b60a34050>"
      ]
     },
     "execution_count": 12,
     "metadata": {},
     "output_type": "execute_result"
    }
   ],
   "source": [
    "\n",
    "# Entraînement et stockage du modèle (10 epochs, batch de 32) dans une vaiable history\n",
    "history = model.fit(X_train, y_train, validation_data=(X_test, y_test), epochs=10, batch_size=32, verbose=1)\n",
    "history"
   ]
  },
  {
   "cell_type": "code",
   "execution_count": 13,
   "metadata": {},
   "outputs": [
    {
     "name": "stdout",
     "output_type": "stream",
     "text": [
      "Epoch 1/5\n",
      "1030/1030 [==============================] - 1s 1ms/step - loss: 0.5385 - accuracy: 0.7470 - val_loss: 0.5361 - val_accuracy: 0.7584\n",
      "Epoch 2/5\n",
      "1030/1030 [==============================] - 1s 1ms/step - loss: 0.5368 - accuracy: 0.7495 - val_loss: 0.5286 - val_accuracy: 0.7611\n",
      "Epoch 3/5\n",
      "1030/1030 [==============================] - 1s 1ms/step - loss: 0.5355 - accuracy: 0.7508 - val_loss: 0.5286 - val_accuracy: 0.7650\n",
      "Epoch 4/5\n",
      "1030/1030 [==============================] - 2s 2ms/step - loss: 0.5353 - accuracy: 0.7505 - val_loss: 0.5258 - val_accuracy: 0.7595\n",
      "Epoch 5/5\n",
      "1030/1030 [==============================] - 1s 1ms/step - loss: 0.5341 - accuracy: 0.7521 - val_loss: 0.5247 - val_accuracy: 0.7618\n"
     ]
    },
    {
     "data": {
      "text/plain": [
       "<keras.callbacks.History at 0x19b61d92810>"
      ]
     },
     "execution_count": 13,
     "metadata": {},
     "output_type": "execute_result"
    }
   ],
   "source": [
    "model.fit(X_train, y_train, validation_data=(X_test, y_test), epochs=5, batch_size=10, verbose=1)"
   ]
  },
  {
   "attachments": {},
   "cell_type": "markdown",
   "metadata": {},
   "source": [
    "5. Affichez l'historique de l'entraînement en utilisant la fonction `plot_history`."
   ]
  },
  {
   "cell_type": "code",
   "execution_count": 14,
   "metadata": {},
   "outputs": [
    {
     "data": {
      "image/png": "[encoded data removed]",
      "text/plain": [
       "<Figure size 640x480 with 1 Axes>"
      ]
     },
     "metadata": {},
     "output_type": "display_data"
    },
    {
     "name": "stdout",
     "output_type": "stream",
     "text": [
      "None\n"
     ]
    }
   ],
   "source": [
    "print(plot_history(history))"
   ]
  },
  {
   "attachments": {},
   "cell_type": "markdown",
   "metadata": {},
   "source": [
    "6. Obtenez les prédictions du modèle sur les données de test avec la méthode `predict` et calculez l'accuracy du modèle avec la fonction `accuracy_score` de la librairie `sklearn.metrics`. Utilisez une liste compréhension pour convertir les prédictions en 0 ou 1 avec un seuil de 0.5.\n"
   ]
  },
  {
   "cell_type": "code",
   "execution_count": 15,
   "metadata": {},
   "outputs": [],
   "source": [
    "from sklearn.metrics import accuracy_score"
   ]
  },
  {
   "cell_type": "code",
   "execution_count": 16,
   "metadata": {},
   "outputs": [
    {
     "name": "stdout",
     "output_type": "stream",
     "text": [
      "81/81 [==============================] - 0s 819us/step\n",
      "Précision du modèle :  0.7618492618492618\n"
     ]
    }
   ],
   "source": [
    "# Obtention des prédictions sur les données de test\n",
    "y_pred = model.predict(X_test)\n",
    "\n",
    "# Conversion des prédictions en 0 ou 1 avec un seuil de 0.5\n",
    "y_pred = [1 if pred > 0.5 else 0 for pred in y_pred]\n",
    "\n",
    "# Calcul de l'accuracy\n",
    "accuracy = accuracy_score(y_test, y_pred)\n",
    "\n",
    "print(\"Précision du modèle : \", accuracy)"
   ]
  },
  {
   "attachments": {},
   "cell_type": "markdown",
   "metadata": {},
   "source": [
    "7. Affichez les poids du modèle avec l'attribut `get_weights` du modèle. Comment est-ce que les poids sont stockés ?"
   ]
  },
  {
   "cell_type": "code",
   "execution_count": 17,
   "metadata": {},
   "outputs": [
    {
     "data": {
      "text/plain": [
       "[array([[ 0.43267715, -0.30765405,  0.65646446, -0.7111104 , -0.06242079,\n",
       "         -0.06201887,  0.03777221,  0.3438227 ,  0.3605661 , -0.32474917],\n",
       "        [ 0.41187024,  0.11786679, -0.121343  ,  0.15030378, -0.01439506,\n",
       "          0.16729769, -0.28170598,  0.20659465, -0.03224804,  0.13323486],\n",
       "        [-0.5194471 , -0.4741414 , -0.06900245,  0.46203205,  0.25476333,\n",
       "          0.0751146 ,  0.1759069 , -0.14721158,  0.23416744, -0.1945945 ],\n",
       "        [ 0.01674577,  0.10041129, -0.08853795, -0.08670712,  0.28093237,\n",
       "         -0.09986836,  0.16474302,  0.29921392, -0.3171061 ,  0.24101031],\n",
       "        [-0.22832976,  0.1426104 ,  0.47729424,  0.25456703, -0.3513322 ,\n",
       "          0.22566035, -0.36508805, -0.14872439, -0.5213613 ,  0.3012358 ],\n",
       "        [-0.17750442,  0.29089004,  0.3743983 ,  0.19003384,  0.26616046,\n",
       "          0.43341476,  0.151698  ,  0.3856441 , -0.3195811 ,  0.1347361 ],\n",
       "        [-0.12479235, -0.23514535,  0.11595639, -0.01326921, -0.44623664,\n",
       "         -0.0084688 ,  0.27057326, -0.27502838,  0.29263026, -0.11072069],\n",
       "        [-0.2992633 , -0.3366172 , -0.27054513, -0.00193   , -0.64609784,\n",
       "          0.59490716, -0.36764446, -0.12361807, -0.18872076, -0.17095752],\n",
       "        [ 0.3564006 , -0.17748517, -0.2558572 , -0.01620406, -0.3553905 ,\n",
       "          0.11426123,  0.3048061 , -0.4090472 , -0.00863676,  0.20583557],\n",
       "        [ 0.15459442, -0.36978343,  0.3289783 , -0.48346698,  0.4737243 ,\n",
       "          0.10237523,  0.5804237 , -0.24715589, -0.59828776, -0.4392559 ],\n",
       "        [-0.2937079 ,  0.3076639 ,  0.1770325 ,  0.39900744,  0.28737068,\n",
       "          0.26195434,  0.12207313, -0.13728608, -0.59515154, -0.6460181 ],\n",
       "        [-0.10529199,  0.17124987,  0.34190056, -0.3078321 ,  0.38623193,\n",
       "         -0.1196259 , -0.6337233 , -0.4375352 ,  0.77333564,  0.69128776]],\n",
       "       dtype=float32),\n",
       " array([-0.09739843, -0.02538312, -0.16438028,  0.03696887,  0.33001179,\n",
       "         0.09220513, -0.01708675, -0.12207242,  0.31338492,  0.19527976],\n",
       "       dtype=float32),\n",
       " array([[ 0.4134055 , -0.67854196,  0.21575302, -0.00546364, -0.08215404,\n",
       "         -0.02446542,  0.17373413,  0.01614526, -0.23351121,  0.11824577],\n",
       "        [-0.384903  , -0.06225453,  0.18652426,  0.02270199, -0.31596363,\n",
       "         -0.02631554,  0.18411279,  0.2786024 ,  0.03199123,  0.00839541],\n",
       "        [ 0.5363221 ,  0.52709174,  0.09084256,  0.17850587, -0.37818062,\n",
       "          0.30455166, -0.20789932, -0.3251978 ,  0.26496974, -0.53178287],\n",
       "        [-0.37478364,  0.01402328,  0.05210016,  0.39583543, -0.22661525,\n",
       "          0.08855795, -0.44880968,  0.05096506, -0.16844384, -0.5843367 ],\n",
       "        [ 0.49963674,  0.3262169 , -0.01478539,  0.3633927 ,  0.02506169,\n",
       "         -0.47356963, -0.5580712 ,  0.11385234,  0.5313291 ,  0.18011004],\n",
       "        [-0.28820017,  0.24891746,  0.23145333, -0.03840142, -0.00103043,\n",
       "          0.482073  , -0.35184544,  0.42414147,  0.4339846 ,  0.59214026],\n",
       "        [-0.17846039, -0.22740105,  0.14139074,  0.2789422 , -0.43076164,\n",
       "          0.48397312,  0.26058847, -0.15618965,  0.18118982,  0.5981646 ],\n",
       "        [ 0.00769196,  0.20292515,  0.4220571 ,  0.13070402, -0.37738246,\n",
       "          0.29125744,  0.14111045,  0.23988107, -0.32053432, -0.18714163],\n",
       "        [-0.14406152,  0.07498126,  0.30667442,  0.23482063,  0.5750396 ,\n",
       "          0.58919024, -0.34115288, -0.47711608, -0.18469498,  0.4752109 ],\n",
       "        [-0.6675975 , -0.16997619, -0.38850662, -0.39710468, -0.07977684,\n",
       "          0.6135817 ,  0.3057377 ,  0.16764636, -0.40967768,  0.34607407]],\n",
       "       dtype=float32),\n",
       " array([ 0.10985693, -0.11399694, -0.09519368,  0.04899728,  0.2509621 ,\n",
       "         0.03313649,  0.13517699,  0.05107301,  0.29586542,  0.13629732],\n",
       "       dtype=float32),\n",
       " array([[-0.6672622 ,  0.12112537, -0.18850371,  0.04864866,  0.05384632,\n",
       "          0.17248344,  0.7562007 ,  0.3736273 , -0.00422992, -0.20938703],\n",
       "        [ 0.38991714, -0.17682165,  0.47638786, -0.3199673 , -0.4117059 ,\n",
       "         -0.05425275,  0.23654325, -0.5157331 , -0.43302116,  0.27123374],\n",
       "        [-0.16640842, -0.16143377, -0.4577931 ,  0.37059096,  0.48210067,\n",
       "         -0.29910314, -0.30837962,  0.22643247,  0.27811745,  0.39580396],\n",
       "        [-0.23301598,  0.09723863, -0.5146559 ,  0.41581985,  0.35362473,\n",
       "          0.05868487,  0.31508437, -0.73516434, -0.25009957, -0.47101536],\n",
       "        [ 0.74092144, -0.3078972 ,  0.37834477, -0.17653595, -0.10434203,\n",
       "         -0.04643369,  0.22405191,  0.02118463, -0.3499615 , -0.7040991 ],\n",
       "        [ 0.52977616,  0.50254   , -0.25814915,  0.00943098, -0.32494947,\n",
       "         -0.27534372, -0.36066017, -0.44002333, -0.19473968, -0.21335725],\n",
       "        [-0.02287286, -0.15988426, -0.12943777,  0.11339398, -0.75946003,\n",
       "          0.37348005, -0.08026197,  0.55043197, -0.2898801 , -0.3744082 ],\n",
       "        [ 0.22544555, -0.02546713,  0.3463878 ,  0.0313844 ,  0.24167025,\n",
       "          0.1795702 , -0.04394167,  0.44683075, -0.04268141,  0.539721  ],\n",
       "        [-0.00099608, -0.7488929 , -0.27953294, -0.3627393 ,  0.18749069,\n",
       "          0.25581408,  0.09825402, -0.1799373 ,  0.5021834 , -0.00722858],\n",
       "        [ 0.66632116, -0.6529157 , -0.5355322 , -0.5118133 ,  0.06346109,\n",
       "         -0.23685414, -0.1304357 ,  0.02020171, -0.10084081,  0.47960758]],\n",
       "       dtype=float32),\n",
       " array([ 0.15999493,  0.01414868, -0.02003939,  0.06638727,  0.09210078,\n",
       "         0.3649626 ,  0.19364224, -0.04391911,  0.2333503 , -0.1144933 ],\n",
       "       dtype=float32),\n",
       " array([[-0.66463715],\n",
       "        [ 0.26966608],\n",
       "        [ 0.7149535 ],\n",
       "        [ 0.23266147],\n",
       "        [ 0.4982106 ],\n",
       "        [ 1.0504482 ],\n",
       "        [ 0.5354408 ],\n",
       "        [ 0.632318  ],\n",
       "        [ 0.474173  ],\n",
       "        [ 0.569184  ]], dtype=float32),\n",
       " array([-0.14574954], dtype=float32)]"
      ]
     },
     "execution_count": 17,
     "metadata": {},
     "output_type": "execute_result"
    }
   ],
   "source": [
    "model.get_weights()"
   ]
  },
  {
   "attachments": {},
   "cell_type": "markdown",
   "metadata": {},
   "source": [
    "Ces poids sont stockées sous formes de listes de listes\n",
    "\n",
    "\n",
    "\n",
    "\n",
    "\n",
    "..."
   ]
  },
  {
   "attachments": {},
   "cell_type": "markdown",
   "metadata": {},
   "source": [
    "8. Changez les hyperparamètres du modèle et observez l'impact sur l'accuracy du modèle.\n",
    "- fonction d'activation, \n",
    "- nombre de couches, \n",
    "- nombre de neurones, \n",
    "- optimiseur, \n",
    "- fonction de perte, \n",
    "- nombre d'epochs, \n",
    "- taille de batch\n",
    "\n",
    "Au moins 3 configurations différentes doivent être testées.\n",
    "Quel est le meilleur modèle que vous avez obtenu ? "
   ]
  },
  {
   "attachments": {},
   "cell_type": "markdown",
   "metadata": {},
   "source": [
    "### Configuration n°1\n",
    "\n",
    "2 couches cachées au lieu de 3; toutes deux utilisant la fonction d'activation sigmoid; optimiseur 'adam'; fonction de perte 'binary_crossentropy', 15 epochs, batch de 32\n"
   ]
  },
  {
   "cell_type": "code",
   "execution_count": 18,
   "metadata": {},
   "outputs": [
    {
     "name": "stdout",
     "output_type": "stream",
     "text": [
      "Epoch 1/15\n",
      "322/322 [==============================] - 1s 2ms/step - loss: 0.6204 - accuracy: 0.6867 - val_loss: 0.5890 - val_accuracy: 0.7051\n",
      "Epoch 2/15\n",
      "322/322 [==============================] - 0s 1ms/step - loss: 0.5908 - accuracy: 0.6885 - val_loss: 0.5665 - val_accuracy: 0.7059\n",
      "Epoch 3/15\n",
      "322/322 [==============================] - 0s 1ms/step - loss: 0.5750 - accuracy: 0.7016 - val_loss: 0.5560 - val_accuracy: 0.7350\n",
      "Epoch 4/15\n",
      "322/322 [==============================] - 0s 1ms/step - loss: 0.5681 - accuracy: 0.7188 - val_loss: 0.5520 - val_accuracy: 0.7424\n",
      "Epoch 5/15\n",
      "322/322 [==============================] - 1s 2ms/step - loss: 0.5650 - accuracy: 0.7235 - val_loss: 0.5517 - val_accuracy: 0.7397\n",
      "Epoch 6/15\n",
      "322/322 [==============================] - 0s 1ms/step - loss: 0.5631 - accuracy: 0.7270 - val_loss: 0.5494 - val_accuracy: 0.7397\n",
      "Epoch 7/15\n",
      "322/322 [==============================] - 0s 1ms/step - loss: 0.5615 - accuracy: 0.7274 - val_loss: 0.5470 - val_accuracy: 0.7424\n",
      "Epoch 8/15\n",
      "322/322 [==============================] - 0s 1ms/step - loss: 0.5601 - accuracy: 0.7289 - val_loss: 0.5464 - val_accuracy: 0.7424\n",
      "Epoch 9/15\n",
      "322/322 [==============================] - 0s 1ms/step - loss: 0.5588 - accuracy: 0.7295 - val_loss: 0.5444 - val_accuracy: 0.7444\n",
      "Epoch 10/15\n",
      "322/322 [==============================] - 0s 1ms/step - loss: 0.5578 - accuracy: 0.7297 - val_loss: 0.5432 - val_accuracy: 0.7428\n",
      "Epoch 11/15\n",
      "322/322 [==============================] - 1s 2ms/step - loss: 0.5567 - accuracy: 0.7313 - val_loss: 0.5421 - val_accuracy: 0.7420\n",
      "Epoch 12/15\n",
      "322/322 [==============================] - 1s 2ms/step - loss: 0.5561 - accuracy: 0.7317 - val_loss: 0.5423 - val_accuracy: 0.7440\n",
      "Epoch 13/15\n",
      "322/322 [==============================] - 1s 2ms/step - loss: 0.5550 - accuracy: 0.7319 - val_loss: 0.5414 - val_accuracy: 0.7432\n",
      "Epoch 14/15\n",
      "322/322 [==============================] - 1s 2ms/step - loss: 0.5543 - accuracy: 0.7316 - val_loss: 0.5404 - val_accuracy: 0.7440\n",
      "Epoch 15/15\n",
      "322/322 [==============================] - 0s 1ms/step - loss: 0.5534 - accuracy: 0.7316 - val_loss: 0.5398 - val_accuracy: 0.7451\n",
      "81/81 [==============================] - 0s 942us/step\n"
     ]
    }
   ],
   "source": [
    "#Configuration n°1\n",
    "\n",
    "\n",
    "# Création du modèle \n",
    "modelConfig1 = tf.keras.models.Sequential([\n",
    "  # Couche d'entrée\n",
    "  tf.keras.layers.Input(shape=(num_features,)),\n",
    "  # 1ère couche cachée\n",
    "  tf.keras.layers.Dense(10, activation='sigmoid'),\n",
    "  # 2ème couche caché\"\n",
    "  tf.keras.layers.Dense(10, activation='sigmoid'),\n",
    "  # Couche de sortie\n",
    "  tf.keras.layers.Dense(1, activation='sigmoid')\n",
    "])\n",
    "\n",
    "# Compilation du modèle\n",
    "modelConfig1.compile(optimizer='adam', loss='binary_crossentropy', metrics=['accuracy'])\n",
    "\n",
    "#Entrainement du modèle\n",
    "modelConfig1.fit(X_train, y_train, validation_data=(X_test, y_test), epochs=15, batch_size=32, verbose=1)\n",
    "\n",
    "\n",
    "# Obtention des prédictions sur les données de test\n",
    "y_pred1 = modelConfig1.predict(X_test)\n",
    "\n",
    "# Conversion des prédictions en 0 ou 1 avec un seuil de 0.5\n",
    "y_pred1 = [1 if pred > 0.5 else 0 for pred in y_pred1]\n"
   ]
  },
  {
   "cell_type": "code",
   "execution_count": 19,
   "metadata": {},
   "outputs": [
    {
     "name": "stdout",
     "output_type": "stream",
     "text": [
      "Précision du modèle de la Configuration 1 :  0.7451437451437452\n"
     ]
    }
   ],
   "source": [
    "# Calcul de l'accuracy\n",
    "accuracy1 = accuracy_score(y_test, y_pred1)\n",
    "\n",
    "print(\"Précision du modèle de la Configuration 1 : \", accuracy1)"
   ]
  },
  {
   "attachments": {},
   "cell_type": "markdown",
   "metadata": {},
   "source": [
    "### Configuration n°2\n",
    "\n",
    "3 couches cachées; 20 neurones par couches; toutes trois utilisant la fonction d'activation relu; optimiseur 'sgd'; fonction de perte 'mean_squared_error', 10 epochs, batch de 64\n"
   ]
  },
  {
   "cell_type": "code",
   "execution_count": 20,
   "metadata": {},
   "outputs": [
    {
     "name": "stdout",
     "output_type": "stream",
     "text": [
      "Epoch 1/10\n",
      "161/161 [==============================] - 1s 3ms/step - loss: 0.2393 - accuracy: 0.6198 - val_loss: 0.2240 - val_accuracy: 0.7016\n",
      "Epoch 2/10\n",
      "161/161 [==============================] - 0s 2ms/step - loss: 0.2208 - accuracy: 0.6882 - val_loss: 0.2115 - val_accuracy: 0.7051\n",
      "Epoch 3/10\n",
      "161/161 [==============================] - 0s 2ms/step - loss: 0.2136 - accuracy: 0.6884 - val_loss: 0.2061 - val_accuracy: 0.7051\n",
      "Epoch 4/10\n",
      "161/161 [==============================] - 0s 2ms/step - loss: 0.2104 - accuracy: 0.6884 - val_loss: 0.2035 - val_accuracy: 0.7051\n",
      "Epoch 5/10\n",
      "161/161 [==============================] - 0s 2ms/step - loss: 0.2087 - accuracy: 0.6884 - val_loss: 0.2019 - val_accuracy: 0.7051\n",
      "Epoch 6/10\n",
      "161/161 [==============================] - 0s 2ms/step - loss: 0.2075 - accuracy: 0.6884 - val_loss: 0.2008 - val_accuracy: 0.7051\n",
      "Epoch 7/10\n",
      "161/161 [==============================] - 0s 1ms/step - loss: 0.2065 - accuracy: 0.6884 - val_loss: 0.1998 - val_accuracy: 0.7051\n",
      "Epoch 8/10\n",
      "161/161 [==============================] - 0s 2ms/step - loss: 0.2057 - accuracy: 0.6884 - val_loss: 0.1990 - val_accuracy: 0.7051\n",
      "Epoch 9/10\n",
      "161/161 [==============================] - 0s 2ms/step - loss: 0.2048 - accuracy: 0.6884 - val_loss: 0.1982 - val_accuracy: 0.7051\n",
      "Epoch 10/10\n",
      "161/161 [==============================] - 0s 2ms/step - loss: 0.2040 - accuracy: 0.6884 - val_loss: 0.1975 - val_accuracy: 0.7051\n",
      "81/81 [==============================] - 0s 1ms/step\n"
     ]
    }
   ],
   "source": [
    "#Configuration n°2\n",
    "\n",
    "\n",
    "# Création du modèle\n",
    "modelConfig2 = tf.keras.models.Sequential([\n",
    "  # Couche d'entrée\n",
    "  tf.keras.layers.Input(shape=(num_features,)),\n",
    "  # 1ère couche cachée\n",
    "  tf.keras.layers.Dense(20, activation='relu'),\n",
    "  # 2ème couche cachée\n",
    "  tf.keras.layers.Dense(20, activation='relu'),\n",
    "  # 3ème couche cachée\n",
    "  tf.keras.layers.Dense(20, activation='relu'),\n",
    "  # Couche de sortie\n",
    "  tf.keras.layers.Dense(1, activation='sigmoid')\n",
    "])\n",
    "\n",
    "# Compilation du modèle\n",
    "modelConfig2.compile(optimizer='sgd', loss='mean_squared_error', metrics=['accuracy'])\n",
    "\n",
    "#Entrainement du modèle\n",
    "modelConfig2.fit(X_train, y_train, validation_data=(X_test, y_test), epochs=10, batch_size=64, verbose=1)\n",
    "\n",
    "\n",
    "# Obtention des prédictions sur les données de test\n",
    "y_pred2 = modelConfig1.predict(X_test)\n",
    "\n",
    "# Conversion des prédictions en 0 ou 1 avec un seuil de 0.5\n",
    "y_pred2 = [1 if pred > 0.5 else 0 for pred in y_pred2]\n"
   ]
  },
  {
   "cell_type": "code",
   "execution_count": 21,
   "metadata": {},
   "outputs": [
    {
     "name": "stdout",
     "output_type": "stream",
     "text": [
      "Précision du modèle de la Configuration 2 :  0.7451437451437452\n"
     ]
    }
   ],
   "source": [
    "# Calcul de l'accuracy\n",
    "accuracy2 = accuracy_score(y_test, y_pred2)\n",
    "\n",
    "print(\"Précision du modèle de la Configuration 2 : \", accuracy2)"
   ]
  },
  {
   "attachments": {},
   "cell_type": "markdown",
   "metadata": {},
   "source": [
    "### Configuration n°3\n",
    "\n",
    "1 couches cachée; 5 neurones par couches; fonction d'activation relu; optimiseur 'adam'; fonction de perte 'binary_crossentropy', 20 epochs, batch de 15\n"
   ]
  },
  {
   "cell_type": "code",
   "execution_count": 22,
   "metadata": {},
   "outputs": [
    {
     "name": "stdout",
     "output_type": "stream",
     "text": [
      "Epoch 1/20\n",
      "687/687 [==============================] - 3s 3ms/step - loss: 0.8003 - accuracy: 0.5050 - val_loss: 0.6419 - val_accuracy: 0.6841\n",
      "Epoch 2/20\n",
      "687/687 [==============================] - 1s 2ms/step - loss: 0.6052 - accuracy: 0.6888 - val_loss: 0.5712 - val_accuracy: 0.7214\n",
      "Epoch 3/20\n",
      "687/687 [==============================] - 1s 2ms/step - loss: 0.5701 - accuracy: 0.7184 - val_loss: 0.5619 - val_accuracy: 0.7401\n",
      "Epoch 4/20\n",
      "687/687 [==============================] - 2s 2ms/step - loss: 0.5641 - accuracy: 0.7278 - val_loss: 0.5584 - val_accuracy: 0.7401\n",
      "Epoch 5/20\n",
      "687/687 [==============================] - 1s 2ms/step - loss: 0.5614 - accuracy: 0.7312 - val_loss: 0.5553 - val_accuracy: 0.7420\n",
      "Epoch 6/20\n",
      "687/687 [==============================] - 1s 2ms/step - loss: 0.5597 - accuracy: 0.7309 - val_loss: 0.5542 - val_accuracy: 0.7382\n",
      "Epoch 7/20\n",
      "687/687 [==============================] - 1s 1ms/step - loss: 0.5582 - accuracy: 0.7336 - val_loss: 0.5520 - val_accuracy: 0.7397\n",
      "Epoch 8/20\n",
      "687/687 [==============================] - 1s 1ms/step - loss: 0.5569 - accuracy: 0.7343 - val_loss: 0.5500 - val_accuracy: 0.7436\n",
      "Epoch 9/20\n",
      "687/687 [==============================] - 1s 1ms/step - loss: 0.5554 - accuracy: 0.7351 - val_loss: 0.5480 - val_accuracy: 0.7436\n",
      "Epoch 10/20\n",
      "687/687 [==============================] - 1s 1ms/step - loss: 0.5541 - accuracy: 0.7351 - val_loss: 0.5483 - val_accuracy: 0.7413\n",
      "Epoch 11/20\n",
      "687/687 [==============================] - 1s 1ms/step - loss: 0.5528 - accuracy: 0.7368 - val_loss: 0.5452 - val_accuracy: 0.7440\n",
      "Epoch 12/20\n",
      "687/687 [==============================] - 1s 1ms/step - loss: 0.5518 - accuracy: 0.7379 - val_loss: 0.5432 - val_accuracy: 0.7486\n",
      "Epoch 13/20\n",
      "687/687 [==============================] - 1s 1ms/step - loss: 0.5508 - accuracy: 0.7390 - val_loss: 0.5421 - val_accuracy: 0.7471\n",
      "Epoch 14/20\n",
      "687/687 [==============================] - 1s 1ms/step - loss: 0.5495 - accuracy: 0.7389 - val_loss: 0.5399 - val_accuracy: 0.7514\n",
      "Epoch 15/20\n",
      "687/687 [==============================] - 1s 1ms/step - loss: 0.5488 - accuracy: 0.7399 - val_loss: 0.5388 - val_accuracy: 0.7498\n",
      "Epoch 16/20\n",
      "687/687 [==============================] - 1s 1ms/step - loss: 0.5478 - accuracy: 0.7404 - val_loss: 0.5375 - val_accuracy: 0.7506\n",
      "Epoch 17/20\n",
      "687/687 [==============================] - 1s 1ms/step - loss: 0.5470 - accuracy: 0.7390 - val_loss: 0.5357 - val_accuracy: 0.7514\n",
      "Epoch 18/20\n",
      "687/687 [==============================] - 1s 1ms/step - loss: 0.5457 - accuracy: 0.7435 - val_loss: 0.5351 - val_accuracy: 0.7533\n",
      "Epoch 19/20\n",
      "687/687 [==============================] - 1s 1ms/step - loss: 0.5453 - accuracy: 0.7415 - val_loss: 0.5344 - val_accuracy: 0.7537\n",
      "Epoch 20/20\n",
      "687/687 [==============================] - 1s 1ms/step - loss: 0.5447 - accuracy: 0.7418 - val_loss: 0.5336 - val_accuracy: 0.7572\n",
      "81/81 [==============================] - 0s 694us/step\n"
     ]
    }
   ],
   "source": [
    "#Configuration n°3\n",
    "\n",
    "\n",
    "# Création du modèle\n",
    "modelConfig3 = tf.keras.models.Sequential([\n",
    "  # Couche d'entrée\n",
    "  tf.keras.layers.Input(shape=(num_features,)),\n",
    "  # 1ère couche cachée\n",
    "  tf.keras.layers.Dense(5, activation='relu'),\n",
    "  # Couche de sortie\n",
    "  tf.keras.layers.Dense(1, activation='sigmoid')\n",
    "])\n",
    "\n",
    "# Compilation du modèle\n",
    "modelConfig3.compile(optimizer='adam', loss='binary_crossentropy', metrics=['accuracy'])\n",
    "\n",
    "#Entrainement du modèle\n",
    "modelConfig3.fit(X_train, y_train, validation_data=(X_test, y_test), epochs=20, batch_size=15, verbose=1)\n",
    "\n",
    "\n",
    "# Obtention des prédictions sur les données de test\n",
    "y_pred3 = modelConfig3.predict(X_test)\n",
    "\n",
    "# Conversion des prédictions en 0 ou 1 avec un seuil de 0.5\n",
    "y_pred3 = [1 if pred > 0.5 else 0 for pred in y_pred3]\n"
   ]
  },
  {
   "cell_type": "code",
   "execution_count": 23,
   "metadata": {},
   "outputs": [
    {
     "name": "stdout",
     "output_type": "stream",
     "text": [
      "Précision du modèle de la Configuration 3 :  0.7571872571872572\n"
     ]
    }
   ],
   "source": [
    "# Calcul de l'accuracy\n",
    "accuracy3 = accuracy_score(y_test, y_pred3)\n",
    "\n",
    "print(\"Précision du modèle de la Configuration 3 : \", accuracy3)"
   ]
  },
  {
   "attachments": {},
   "cell_type": "markdown",
   "metadata": {},
   "source": [
    "9. Sauvegardez le modèle en utilisant la méthode `save` du modèle. Chargez le modèle en utilisant la méthode `load_model` de la librairie `tensorflow.keras.models`.\n"
   ]
  },
  {
   "cell_type": "code",
   "execution_count": 24,
   "metadata": {},
   "outputs": [],
   "source": [
    "#On energistre le modèle avec un format \".h5\" qui est une extension utilisée pour les formats de stockage de données.\n",
    "\n",
    "model.save(\"Model.h5\")"
   ]
  },
  {
   "cell_type": "code",
   "execution_count": 25,
   "metadata": {},
   "outputs": [],
   "source": [
    "from tensorflow.keras.models import load_model"
   ]
  },
  {
   "cell_type": "code",
   "execution_count": 26,
   "metadata": {},
   "outputs": [],
   "source": [
    "\n",
    "model = load_model(\"Model.h5\")"
   ]
  },
  {
   "attachments": {},
   "cell_type": "markdown",
   "metadata": {},
   "source": [
    "10. Publiez votre projet sur GitHub et placez le lien dans dans le fichier [suivant](https://docs.google.com/spreadsheets/d/1mnS5XL4pJNmQNclndP2LZPCELOi1OmBKoW3803xyK8c/edit?usp=sharing).\n"
   ]
  }
 ],
 "metadata": {
  "kernelspec": {
   "display_name": "Python 3",
   "language": "python",
   "name": "python3"
  },
  "language_info": {
   "codemirror_mode": {
    "name": "ipython",
    "version": 3
   },
   "file_extension": ".py",
   "mimetype": "text/x-python",
   "name": "python",
   "nbconvert_exporter": "python",
   "pygments_lexer": "ipython3",
   "version": "3.11.0"
  },
  "orig_nbformat": 4
 },
 "nbformat": 4,
 "nbformat_minor": 2
}
